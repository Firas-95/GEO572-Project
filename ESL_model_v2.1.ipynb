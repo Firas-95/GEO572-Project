{
  "nbformat": 4,
  "nbformat_minor": 0,
  "metadata": {
    "colab": {
      "name": "Copy of ESL_model_v2.0.ipynb",
      "provenance": [],
      "collapsed_sections": [],
      "include_colab_link": true
    },
    "kernelspec": {
      "display_name": "Python 3",
      "language": "python",
      "name": "python3"
    },
    "language_info": {
      "codemirror_mode": {
        "name": "ipython",
        "version": 3
      },
      "file_extension": ".py",
      "mimetype": "text/x-python",
      "name": "python",
      "nbconvert_exporter": "python",
      "pygments_lexer": "ipython3",
      "version": "3.7.4"
    }
  },
  "cells": [
    {
      "cell_type": "markdown",
      "metadata": {
        "id": "view-in-github",
        "colab_type": "text"
      },
      "source": [
        "<a href=\"https://colab.research.google.com/github/Firas-95/GEO572-Project-E.St.Louis/blob/develop/ESL_model_v2.1.ipynb\" target=\"_parent\"><img src=\"https://colab.research.google.com/assets/colab-badge.svg\" alt=\"Open In Colab\"/></a>"
      ]
    },
    {
      "cell_type": "markdown",
      "metadata": {
        "id": "9W-sjuIJ6Opr",
        "colab_type": "text"
      },
      "source": [
        "# Milestone 2 TASK\n",
        "1.  Near-final versions of products associated with Milestone #1 posted to your Wiki.   \n",
        "  **done**\n",
        "  \n",
        "2.  Add drain cells to the model anywhere that low-k material is at land surface. Set the drain elevation equal to land surface. Look through the literature to find an appropriate conductance for the drain cells (later to be adjusted during calibration).   \n",
        "  **done**\n",
        "  \n",
        "3.  Zone recharge based on hydraulic conductivity such that higher recharge is associated with higher hydraulic conductivity. Look through the literature to find an appropriate recharge rate to assign to your different zones.   \n",
        "  **Almost done, but the problem is how to pick up proper recharge values, since they have a strong impact on the water head map!**\n",
        "  \n",
        "4.  Assign IWIP well pumpage (provided for milestone #1) to the groundwater flow model (make sure to remove any wells that are too deep to be included in your model). Recommended years (to ensure one good year for model calibration): \n",
        "American Bottoms: 1995 \n",
        "  **done**\n",
        "  \n",
        "5.  Adjust model k-zones until the model cross-sections match (as best possible) the well cross sections you developed for Milestone 1.  \n",
        "  **not done**  \n",
        "  \n",
        "6.  Investigate methodology to model a flood condition (impact on boundary conditions, etc.).   \n",
        "   **not done** \n",
        " \n"
      ]
    },
    {
      "cell_type": "markdown",
      "metadata": {
        "colab_type": "text",
        "id": "G4KWGGv5A7F2"
      },
      "source": [
        "# <center>FloPy Regional Model Development</center>\n",
        "The following script develops a regional MODFLOW model using FloPy and associated packages. The study domain is the Mahomet Aquifer in Illinois, particulary in the heavily irrigated region of Mason County. \n",
        "\n",
        "Note that you may not always have to compile MODFLOW, and you only have initialize code (#1) and import large files (#2) the first time you run the code in a session. Most of the time, you will only have to run #3 onward. "
      ]
    },
    {
      "cell_type": "markdown",
      "metadata": {
        "colab_type": "text",
        "id": "MZeCuFvptP_f"
      },
      "source": [
        "# 0. Compile MODFLOW (DO NOT RUN UNLESS NECESSARY)\n"
      ]
    },
    {
      "cell_type": "markdown",
      "metadata": {
        "colab_type": "text",
        "id": "I0WdSEtOElwW"
      },
      "source": [
        "When using Google CoLab, you cannot simply use an existing MODFLOW executable, but have to compile a a new one for use in this environment. I have already compiled MODFLOW, but am currently unsure if it will work for everybody. Please do not run the following code unless you get an error that the MODFLOW file was not found (will occur when running the model). "
      ]
    },
    {
      "cell_type": "code",
      "metadata": {
        "colab_type": "code",
        "id": "Imxy2VTEuFWa",
        "colab": {}
      },
      "source": [
        "#!pip install https://github.com/modflowpy/pymake/zipball/master # install of the pymake package to compile MODFLOW"
      ],
      "execution_count": 0,
      "outputs": []
    },
    {
      "cell_type": "code",
      "metadata": {
        "colab_type": "code",
        "id": "GRcmZ0Oudvp1",
        "colab": {}
      },
      "source": [
        "# Code to complile the MODFLOW executable\n",
        "#import pymake\n",
        "#def make_mf2005():\n",
        "#    pymake.build_apps('mf2005')\n",
        "#if __name__ == \"__main__\":\n",
        "#    make_mf2005()\n",
        "# Mf-NWT has more rubust ……\n",
        "#import pymake\n",
        "#def make_mfnwt():\n",
        "#    pymake.build_apps('mfnwt')\n",
        "#if __name__ == \"__main__\":\n",
        "#    make_mfnwt()"
      ],
      "execution_count": 0,
      "outputs": []
    },
    {
      "cell_type": "markdown",
      "metadata": {
        "colab_type": "text",
        "id": "8Wf-e4N6BUJo"
      },
      "source": [
        "# 1 Initializing the code\n"
      ]
    },
    {
      "cell_type": "markdown",
      "metadata": {
        "colab_type": "text",
        "id": "N3dybMuFEr1q"
      },
      "source": [
        "These few code blocks only have to be run at the beginning of the script or if a runtime connection is lost. See details for each below. "
      ]
    },
    {
      "cell_type": "markdown",
      "metadata": {
        "colab_type": "text",
        "id": "AiQlOJosBqXy"
      },
      "source": [
        "## 1A. Install needed packages\n",
        "There are three packages that must be installed in the CoLab environment to run this script. These include \n",
        "\n",
        "\"pyproj\", which allows for the conversion from WGS84 coordinates (as obtained from Google Earth), which are in lat/long decimal degrees, to Illimap coordinates, a specialized projection using Lambert Conformal Conic that is optimized for developing a model grid in the state of Illinois. \n",
        "\n",
        "\"flopy\" creates modflow executables, runs the model, and allows for manipulation of results.\n",
        "\n",
        "\"rasterio\" allows for the reading of raster files, and is closely tied to the development of \"flopy\" input files\n"
      ]
    },
    {
      "cell_type": "code",
      "metadata": {
        "colab_type": "code",
        "id": "z0rwRhzkGuf3",
        "outputId": "fe002189-97d9-41a0-ed7b-60b2fc36d69d",
        "colab": {
          "base_uri": "https://localhost:8080/",
          "height": 617
        }
      },
      "source": [
        "!pip install pyproj\n",
        "!pip install flopy\n",
        "!pip install rasterio"
      ],
      "execution_count": 4,
      "outputs": [
        {
          "output_type": "stream",
          "text": [
            "Collecting pyproj\n",
            "\u001b[?25l  Downloading https://files.pythonhosted.org/packages/ce/37/705ee471f71130d4ceee41bbcb06f3b52175cb89273cbb5755ed5e6374e0/pyproj-2.6.0-cp36-cp36m-manylinux2010_x86_64.whl (10.4MB)\n",
            "\u001b[K     |████████████████████████████████| 10.4MB 2.6MB/s \n",
            "\u001b[?25hInstalling collected packages: pyproj\n",
            "Successfully installed pyproj-2.6.0\n",
            "Collecting flopy\n",
            "\u001b[?25l  Downloading https://files.pythonhosted.org/packages/b7/6a/44206d49f3fa6edbb83e01ff4c58aa8dc188e0071de88cf14b36e19b3f2a/flopy-3.3.0.zip (1.0MB)\n",
            "\u001b[K     |████████████████████████████████| 1.1MB 2.7MB/s \n",
            "\u001b[?25hRequirement already satisfied: numpy>=1.9 in /usr/local/lib/python3.6/dist-packages (from flopy) (1.18.2)\n",
            "Building wheels for collected packages: flopy\n",
            "  Building wheel for flopy (setup.py) ... \u001b[?25l\u001b[?25hdone\n",
            "  Created wheel for flopy: filename=flopy-3.3.0-cp36-none-any.whl size=1038572 sha256=6a98648afc6540e72014ceb38e02b310341804a2abdafad2a692db33ef96ee5d\n",
            "  Stored in directory: /root/.cache/pip/wheels/d6/af/5a/6d32a03da175b47d8f8cca93b4d363a864cf604164b85af785\n",
            "Successfully built flopy\n",
            "Installing collected packages: flopy\n",
            "Successfully installed flopy-3.3.0\n",
            "Collecting rasterio\n",
            "\u001b[?25l  Downloading https://files.pythonhosted.org/packages/c7/81/13321f88f582a00705c5f348724728e8999136e19d6e7c56f7e6ac9bb7f9/rasterio-1.1.3-cp36-cp36m-manylinux1_x86_64.whl (18.1MB)\n",
            "\u001b[K     |████████████████████████████████| 18.1MB 41.7MB/s \n",
            "\u001b[?25hCollecting click-plugins\n",
            "  Downloading https://files.pythonhosted.org/packages/e9/da/824b92d9942f4e472702488857914bdd50f73021efea15b4cad9aca8ecef/click_plugins-1.1.1-py2.py3-none-any.whl\n",
            "Requirement already satisfied: attrs in /usr/local/lib/python3.6/dist-packages (from rasterio) (19.3.0)\n",
            "Requirement already satisfied: click<8,>=4.0 in /usr/local/lib/python3.6/dist-packages (from rasterio) (7.1.1)\n",
            "Requirement already satisfied: numpy in /usr/local/lib/python3.6/dist-packages (from rasterio) (1.18.2)\n",
            "Collecting snuggs>=1.4.1\n",
            "  Downloading https://files.pythonhosted.org/packages/cc/0e/d27d6e806d6c0d1a2cfdc5d1f088e42339a0a54a09c3343f7f81ec8947ea/snuggs-1.4.7-py3-none-any.whl\n",
            "Collecting cligj>=0.5\n",
            "  Downloading https://files.pythonhosted.org/packages/e4/be/30a58b4b0733850280d01f8bd132591b4668ed5c7046761098d665ac2174/cligj-0.5.0-py3-none-any.whl\n",
            "Collecting affine\n",
            "  Downloading https://files.pythonhosted.org/packages/ac/a6/1a39a1ede71210e3ddaf623982b06ecfc5c5c03741ae659073159184cd3e/affine-2.3.0-py2.py3-none-any.whl\n",
            "Requirement already satisfied: pyparsing>=2.1.6 in /usr/local/lib/python3.6/dist-packages (from snuggs>=1.4.1->rasterio) (2.4.7)\n",
            "Installing collected packages: click-plugins, snuggs, cligj, affine, rasterio\n",
            "Successfully installed affine-2.3.0 click-plugins-1.1.1 cligj-0.5.0 rasterio-1.1.3 snuggs-1.4.7\n"
          ],
          "name": "stdout"
        }
      ]
    },
    {
      "cell_type": "markdown",
      "metadata": {
        "colab_type": "text",
        "id": "g6tMviUVufyx"
      },
      "source": [
        "## 1B. Import packages"
      ]
    },
    {
      "cell_type": "code",
      "metadata": {
        "colab_type": "code",
        "id": "It0QTEJCQCuV",
        "outputId": "75c868d6-909d-42ba-87be-6bf9f20553f6",
        "colab": {
          "base_uri": "https://localhost:8080/",
          "height": 35
        }
      },
      "source": [
        "import flopy  # import flopy to develop, run, and analyze the model\n",
        "from flopy.utils import Raster  # plot rasters from flopy\n",
        "import matplotlib as mp\n",
        "import pandas as pd\n",
        "import pyproj  # change between WGS84 and Illimap coordinates\n",
        "import rasterio  # import rasters\n",
        "import matplotlib.pyplot as plt\n",
        "import numpy as np\n",
        "\n",
        "# the following code authorizes you to access files on Google Drive\n",
        "from google.colab import drive\n",
        "from pydrive.auth import GoogleAuth\n",
        "from pydrive.drive import GoogleDrive\n",
        "from google.colab import auth\n",
        "from oauth2client.client import GoogleCredentials"
      ],
      "execution_count": 5,
      "outputs": [
        {
          "output_type": "stream",
          "text": [
            "flopy is installed in /usr/local/lib/python3.6/dist-packages/flopy\n"
          ],
          "name": "stdout"
        }
      ]
    },
    {
      "cell_type": "markdown",
      "metadata": {
        "colab_type": "text",
        "id": "MRFZ3O-TurE2"
      },
      "source": [
        "## 1C. Authenticate with Google\n",
        "This will allow you to access shared files on my Google Drive or your own. "
      ]
    },
    {
      "cell_type": "code",
      "metadata": {
        "colab_type": "code",
        "id": "hstJX5XhPT9r",
        "colab": {}
      },
      "source": [
        "auth.authenticate_user()\n",
        "gauth = GoogleAuth()\n",
        "gauth.credentials = GoogleCredentials.get_application_default()\n",
        "drive = GoogleDrive(gauth)"
      ],
      "execution_count": 0,
      "outputs": []
    },
    {
      "cell_type": "markdown",
      "metadata": {
        "colab_type": "text",
        "id": "WoUf-0HKvAUm"
      },
      "source": [
        "## 1D. Read the MODFLOW executable from Google Drive\n",
        "\n",
        "Here you are going to download the MODFLOW executable from Daniel's Google Drive. This will show up in your temporary working directory for use later in the code. <b>We need to confirm whether this will work in CoLab, or if you need to compile a new version of MODFLOW each time.</b>\n",
        "\n",
        "Note that this makes use of a key on your Google Drive sharable link for the file. This generally takes the form of: https://drive.google.com/file/d/**key**/view?usp=sharing, in this case, key = 1SwqsSCvyrnrCiopeEp52LBcZYNcgBT9V"
      ]
    },
    {
      "cell_type": "code",
      "metadata": {
        "colab_type": "code",
        "id": "NITzYdM_PgFM",
        "colab": {}
      },
      "source": [
        "downloaded = drive.CreateFile({'id':\"1SwqsSCvyrnrCiopeEp52LBcZYNcgBT9V\"}) # This is the key that is defined in the sharable link of a file on Google Drive\n",
        "downloaded.GetContentFile('mf2005') # get the content from Google Drive and name it (let's stick with mf2005 here)\n",
        "\n",
        "#downloaded = drive.CreateFile({'id':\"1iThxRoGVhofLPd8HOF7Vn0awRVrXZcVb\"}) # This is the key that is defined in the sharable link of a file on Google Drive\n",
        "#downloaded.GetContentFile('mfnwt') # get the content from Google Drive and name it (let's stick with mf2005 here)"
      ],
      "execution_count": 0,
      "outputs": []
    },
    {
      "cell_type": "markdown",
      "metadata": {
        "colab_type": "text",
        "id": "r-owARmIvCoH"
      },
      "source": [
        "Now we need to copy the executable into a location where we can later run it. Note that the \"!\" nomenclature is a shell command, beyond the scope of this course to learn that!"
      ]
    },
    {
      "cell_type": "code",
      "metadata": {
        "colab_type": "code",
        "id": "9WK5wZAzjdna",
        "colab": {}
      },
      "source": [
        "!cp mf2005 /usr/local/bin\n",
        "!chmod 755 /usr/local/bin/mf2005\n",
        "\n",
        "#!cp mfnwt /usr/local/bin\n",
        "#!chmod 755 /usr/local/bin/mfnwt"
      ],
      "execution_count": 0,
      "outputs": []
    },
    {
      "cell_type": "markdown",
      "metadata": {
        "colab_type": "text",
        "id": "oywHJyvfxXAq"
      },
      "source": [
        "# 2 Import the big stuff\n"
      ]
    },
    {
      "cell_type": "markdown",
      "metadata": {
        "colab_type": "text",
        "id": "bd7Rk7IlD3Ra"
      },
      "source": [
        "We don't want to repeatedly import large files for fear of Google revoking our CoLab priveleges for a few hours. Once or twice isn't a big deal, but repeatedly might be an issue. Let Daniel know if this happens- there are ways to reduce our file sizes. \n",
        "\n",
        "For now, the \"big stuff\" includes a DEM of Illinois and the river excel file we worked with last time. "
      ]
    },
    {
      "cell_type": "markdown",
      "metadata": {
        "colab_type": "text",
        "id": "7W_2AeFMx4Ai"
      },
      "source": [
        "## 2A. Import the DEM"
      ]
    },
    {
      "cell_type": "code",
      "metadata": {
        "colab_type": "code",
        "id": "3ygMVkWFAcWv",
        "colab": {}
      },
      "source": [
        "# first import the land surface .tif from Google Drive\n",
        "downloaded = drive.CreateFile({'id':\"1389l8sgQ8-tsmIZuZosaqvbqpHY40n6l\"}) # ft above msl, works best for most groups, spiky in Mason County \n",
        "downloaded.GetContentFile('landsurface_el.tif')\n",
        "\n",
        "# first import the bedrock elevation .tif from Google Drive\n",
        "downloaded = drive.CreateFile({'id':\"1EZgZDjjILzvRzvY9nf0Qp0NHmspRq4kP\"})   \n",
        "downloaded.GetContentFile('bedrock_el.tif')\n",
        "\n",
        "# read in percent thickness of coarse grain for each model layer\n",
        "downloaded = drive.CreateFile({'id':\"18Kw3O6qCzIJ2L6KrVnRPIhea_F8VwyWn\"})   \n",
        "downloaded.GetContentFile('percentl1.tif')\n",
        "\n",
        "downloaded = drive.CreateFile({'id':\"1oZinFPKrGY-FXoE7Zu0okFpAAOe_bwau\"})   \n",
        "downloaded.GetContentFile('percentl2.tif')\n",
        "\n",
        "downloaded = drive.CreateFile({'id':\"1FqVEr4m_ElUyEZeyfnCMwVGDfUqavJZH\"})   \n",
        "downloaded.GetContentFile('percentl3.tif')\n",
        "\n",
        "downloaded = drive.CreateFile({'id':\"1KiHS9TLSP1GAVTjaaJZS4BAwF6gnUeDu\"})   \n",
        "downloaded.GetContentFile('percentl4.tif')\n",
        "\n",
        "downloaded = drive.CreateFile({'id':\"1Z-9EyaAK1NKnRHAlnyGYkI3suvBFC2I6\"})   \n",
        "downloaded.GetContentFile('percentl5.tif')\n",
        "\n",
        "downloaded = drive.CreateFile({'id':\"1pcB9aJpJGfkXOKz10rhs6MpWkQL1_dqr\"})   \n",
        "downloaded.GetContentFile('percentl6.tif')\n",
        "\n",
        "downloaded = drive.CreateFile({'id':\"1Fnh0HIKbUj7pEtlsUKR_Sr7WwfYzWul5\"})   \n",
        "downloaded.GetContentFile('percentl7.tif')\n",
        "\n",
        "downloaded = drive.CreateFile({'id':\"106JacgpwSA3wVAGcBIzGdc8rDVUB6dh7\"})   \n",
        "downloaded.GetContentFile('percentl8.tif')\n",
        "\n",
        "downloaded = drive.CreateFile({'id':\"1WJjhVJ_KSBhZDrgzY3YteNjxaz5nxBid\"})   \n",
        "downloaded.GetContentFile('percentl9.tif')"
      ],
      "execution_count": 0,
      "outputs": []
    },
    {
      "cell_type": "markdown",
      "metadata": {
        "colab_type": "text",
        "id": "oqxp3yqCydpY"
      },
      "source": [
        "## 2B. Import the river file"
      ]
    },
    {
      "cell_type": "code",
      "metadata": {
        "colab_type": "code",
        "id": "3VqaFoQiu7tP",
        "colab": {}
      },
      "source": [
        "# first import the Excel file from Google Drive\n",
        "downloaded = drive.CreateFile({'id':\"1JsAiGG4RvcfYrQtfgXRW9ZVfAkQ1yRVu\"})\n",
        "downloaded.GetContentFile('rivers_625.csv')"
      ],
      "execution_count": 0,
      "outputs": []
    },
    {
      "cell_type": "markdown",
      "metadata": {
        "colab_type": "text",
        "id": "OROiooZxzUuH"
      },
      "source": [
        "# 3 Create MODFLOW  packages"
      ]
    },
    {
      "cell_type": "markdown",
      "metadata": {
        "colab_type": "text",
        "id": "F-uLI2Rf0PIw"
      },
      "source": [
        "## 3A. Model Set-up"
      ]
    },
    {
      "cell_type": "markdown",
      "metadata": {
        "colab_type": "text",
        "id": "FnPkGXMG0qdv"
      },
      "source": [
        "### 3Ai. Define the Model Domain"
      ]
    },
    {
      "cell_type": "code",
      "metadata": {
        "colab_type": "code",
        "id": "xKgi6FiwSwY0",
        "outputId": "efa2d040-eae9-4019-a127-e062b59fdbff",
        "colab": {
          "base_uri": "https://localhost:8080/",
          "height": 35
        }
      },
      "source": [
        "#ESL project area\n",
        "sw_lat = 38.4  #southwest latitude\n",
        "sw_long = -90.25  #southwest longitude\n",
        "ne_lat = 39  #northeast latitude\n",
        "ne_long = -89.85  #northeast longitude\n",
        "\n",
        "illimap = {\n",
        "    'proj': 'lcc',  # Lambert Conformal Conic\n",
        "    'ellps': 'clrk66',\n",
        "    'lon_0': -89.5,\n",
        "    'lat_0': 33,\n",
        "    'lat_1': 33,\n",
        "    'lat_2': 45,\n",
        "    'x_0': 2999994 * 0.3048006096012192,\n",
        "    'y_0': 0\n",
        "}\n",
        "\n",
        "prj = pyproj.Proj(illimap)\n",
        "\n",
        "wgs84 = pyproj.Proj(\"epsg:4326\")\n",
        "\n",
        "nex, ney = pyproj.transform(wgs84, illimap, ne_lat, ne_long)\n",
        "swx, swy = pyproj.transform(wgs84, illimap, sw_lat, sw_long)\n",
        "\n",
        "#  convert the Lambert coordinates from meter to ft\n",
        "nex, ney = round(nex / 0.3048006096012192, -4), round(ney / 0.3048006096012192,\n",
        "                                                      -4)\n",
        "swx, swy = round(swx / 0.3048006096012192, -4), round(swy / 0.3048006096012192,\n",
        "                                                      -4)\n",
        "print(nex, ney, swx, swy)"
      ],
      "execution_count": 11,
      "outputs": [
        {
          "output_type": "stream",
          "text": [
            "2900000.0 2180000.0 2790000.0 1960000.0\n"
          ],
          "name": "stdout"
        }
      ]
    },
    {
      "cell_type": "markdown",
      "metadata": {
        "colab_type": "text",
        "id": "CpselZ1G2hoC"
      },
      "source": [
        "### 3Aii. Define spatial and temporal discretization"
      ]
    },
    {
      "cell_type": "code",
      "metadata": {
        "colab_type": "code",
        "id": "JZPmYy-DkqGy",
        "colab": {}
      },
      "source": [
        "# Assign Discretization variables\n",
        "Lx = nex - swx  # Width of the model domain\n",
        "Ly = ney - swy  # Height of the model domain\n",
        "nlay = 10  # Number of model layers\n",
        "dx = 1000\n",
        "dy = 1000\n",
        "nrow = int(Ly / dy)  # Number of rows\n",
        "ncol = int(Lx / dx)  # Number of columns\n",
        "\n",
        "nper = 1  #specify number of stress periods\n",
        "steady = [True]  #specify if stress period is transient or steady-state"
      ],
      "execution_count": 0,
      "outputs": []
    },
    {
      "cell_type": "markdown",
      "metadata": {
        "colab_type": "text",
        "id": "GoUbGJMb0e2Q"
      },
      "source": [
        "### 3Aiii. Define river elevations\n",
        "\n"
      ]
    },
    {
      "cell_type": "code",
      "metadata": {
        "colab_type": "code",
        "id": "xCZvnOQm05ww",
        "outputId": "f2823ab0-31fa-4bb9-fb7a-6d88a6b48e6d",
        "colab": {
          "base_uri": "https://localhost:8080/",
          "height": 272
        }
      },
      "source": [
        "# import stage, lambert x, lambert y\n",
        "dfriv = pd.read_csv('rivers_625.csv')\n",
        "\n",
        "# trim dataframe with river information to the model domain\n",
        "dfriv = dfriv.loc[dfriv['lamx'] < nex]\n",
        "dfriv = dfriv.loc[dfriv['lamy'] < ney]\n",
        "dfriv = dfriv.loc[dfriv['lamx'] > swx]\n",
        "dfriv = dfriv.loc[dfriv['lamy'] > swy]\n",
        "# assign all rivers to the upper layer\n",
        "dfriv['lay'] = 0\n",
        "'''convert lamx to column and lamy to row (determine the exact position of rivers in the model)'''\n",
        "# np.trunc() can round decimals to integers\n",
        "dfriv['row'] = np.trunc((ney - dfriv['lamy']) / dy).astype('int')  \n",
        "dfriv['col'] = np.trunc((dfriv['lamx'] - swx) / dx).astype('int')\n",
        "# define the river stage\n",
        "dfriv['stage'] = dfriv['rvr_stg']\n",
        "#define the conductance\n",
        "dfriv['cond'] = 5000.  # ft^2/d\n",
        "\"\"\"define the river bottom\n",
        "The average depth is around 20 ft.\n",
        "The extreme flooding depth is around 40 ft.\n",
        "(Source: USGS 07010000 Mississippi River at St. Louis, MO)\n",
        "https://waterdata.usgs.gov/mo/nwis/dv?cb_00065=on&cb_80155=on&format=gif_default&site_no=07010000&referred_module=sw&period=&begin_date=2001-04-01&end_date=2020-04-16\"\"\"\n",
        "dfriv['bot'] = dfriv['stage'] - 20\n",
        "# drop unneeded files\n",
        "dfriv = dfriv.drop(\n",
        "    ['STR_ORD_MI', 'STR_ORD_MA', 'SUM_LENGTH', 'rvr_stg', 'lamx', 'lamy'],\n",
        "    axis=1)\n",
        "\n",
        "#  grouping repetitive river data\n",
        "# groupby() can combine Dataframe indices with the same coordinates.\n",
        "dfriv = dfriv.groupby(['lay', 'row', 'col'], as_index=False).mean() \n",
        "print(dfriv)"
      ],
      "execution_count": 13,
      "outputs": [
        {
          "output_type": "stream",
          "text": [
            "     lay  row  col  stage    cond    bot\n",
            "0      0   39    9  417.0  5000.0  397.0\n",
            "1      0   40   11  417.0  5000.0  397.0\n",
            "2      0   41   12  417.0  5000.0  397.0\n",
            "3      0   41   35  408.0  5000.0  388.0\n",
            "4      0   42   14  417.0  5000.0  397.0\n",
            "..   ...  ...  ...    ...     ...    ...\n",
            "147    0  155    6  388.0  5000.0  368.0\n",
            "148    0  157    5  387.0  5000.0  367.0\n",
            "149    0  159    3  384.0  5000.0  364.0\n",
            "150    0  161    2  384.0  5000.0  364.0\n",
            "151    0  164    1  384.0  5000.0  364.0\n",
            "\n",
            "[152 rows x 6 columns]\n"
          ],
          "name": "stdout"
        }
      ]
    },
    {
      "cell_type": "markdown",
      "metadata": {
        "colab_type": "text",
        "id": "lMLXmXKF838v"
      },
      "source": [
        "### 3Aiv. Define top and bottom elevations"
      ]
    },
    {
      "cell_type": "code",
      "metadata": {
        "colab_type": "code",
        "id": "0sv1P7Bg8-RF",
        "colab": {}
      },
      "source": [
        "\"\"\"Import the surface and bedrock DEM and assign the elevation for each cell\n",
        "on the top or bottom layer in our model.\"\"\"\n",
        "# Now load the raster using FloPy's built in Raster toolbox\n",
        "illinoisdem = Raster.load(\"landsurface_el.tif\")\n",
        "bedrock = Raster.load(\"bedrock_el.tif\")\n",
        "\n",
        "# Crop the dEM to the model domain\n",
        "illinoisdem.crop([(swx, swy), (swx, ney), (nex, ney), (nex, swy)])\n",
        "bedrock.crop([(swx, swy), (swx, ney), (nex, ney), (nex, swy)])\n",
        "# Define centroid of the southwestern most cell\n",
        "startx = swx + dx / 2\n",
        "starty = swy + dy / 2\n",
        "# Calculate the x and y coordinates for the centroid of each cell\n",
        "xc = np.arange(swx + dx / 2, nex + dx / 2, dx)  # np.arange(start,end,interval)\n",
        "yc = np.arange(swy + dy / 2, ney + dy / 2, dy)\n",
        "# Create a grid of the x coordinate of each centroid and the y coordinate\n",
        "xarr, yarr = np.meshgrid(xc, yc)\n",
        "# resample the topo raster to the grid of centroids of the model\n",
        "topgrid = illinoisdem.resample_to_grid(xarr, yarr, 1, method='nearest')\n",
        "bedrock = bedrock.resample_to_grid(xarr, yarr, 1, method='nearest')\n",
        "\n",
        "# We just built our top elevation upside down, let's flip it\n",
        "topgrid = np.flipud(topgrid)\n",
        "bedrockgrid = np.flipud(bedrock)\n",
        "\"\"\"The grid does not extend past the boundaries of Illinois.\n",
        "Inactivate cells west of the Mississippi River that were originally not present.\n",
        "Note that because inactive cells would overlap with the river boundaries, this code pushes inactive cells to the west by 2 cells.\"\"\"\n",
        "maxrow = topgrid.shape[0]  # in our model maxrow =220\n",
        "maxcol = topgrid.shape[1]  # in our model maxcol =110\n",
        "# Create ibound as array of ints (1), indicating all cells are active\n",
        "ibound = np.ones((nlay, nrow, ncol), dtype=np.int32)\n",
        "for row in np.arange(maxrow, 0, -1):\n",
        "    # how far west to shift inactive cell\n",
        "    counter = 0\n",
        "    for col in np.arange(maxcol, 0, -1):\n",
        "        if topgrid[row - 1, col - 1] <= 0:  # \"-1\" is because python indices start from 0\n",
        "            counter += 1\n",
        "            topgrid[row - 1, col - 1] = topgrid[row - 1,\n",
        "                                                col]  # \"backfill\" the data\n",
        "            bedrockgrid[row - 1, col - 1] = bedrockgrid[row - 1, col]\n",
        "            if counter >= 2:  # only backfill 2 grids on the maximum\n",
        "                ibound[:, row - 1, col - 1] = 0"
      ],
      "execution_count": 0,
      "outputs": []
    },
    {
      "cell_type": "code",
      "metadata": {
        "colab_type": "code",
        "id": "A7VYVe72utBk",
        "colab": {}
      },
      "source": [
        "\"\"\"Define the top of river cells. Define the bottom of each layer.\"\"\"\n",
        "# Set the top of Layer 1 = River Elevation\n",
        "for index, row in dfriv.iterrows():\n",
        "    topgrid[int(row['row']), int(row['col'])] = row['stage']\n",
        "# make sure that all layers （combined) are at least 9 ft thick\n",
        "diff = topgrid - bedrockgrid\n",
        "diff[diff <= 9.0] = 9.0\n",
        "# each layer is the same thickness, we need 9 glacial layers\n",
        "laythick = diff / 9\n",
        "#calculate the bottom of each layer\n",
        "lay1bot = topgrid - laythick\n",
        "lay2bot = topgrid - 2 * laythick\n",
        "lay3bot = topgrid - 3 * laythick\n",
        "lay4bot = topgrid - 4 * laythick\n",
        "lay5bot = topgrid - 5 * laythick\n",
        "lay6bot = topgrid - 6 * laythick\n",
        "lay7bot = topgrid - 7 * laythick\n",
        "lay8bot = topgrid - 8 * laythick\n",
        "lay9bot = topgrid - 9 * laythick\n",
        "lay10bot = lay9bot - 50.\n",
        "botgrids = [\n",
        "    lay1bot, lay2bot, lay3bot, lay4bot, lay5bot, lay6bot, lay7bot, lay8bot,\n",
        "    lay9bot, lay10bot\n",
        "]"
      ],
      "execution_count": 0,
      "outputs": []
    },
    {
      "cell_type": "markdown",
      "metadata": {
        "colab_type": "text",
        "id": "qDDlICg0Jqiv"
      },
      "source": [
        "### 3Av. Assign hydrualic conductivity"
      ]
    },
    {
      "cell_type": "code",
      "metadata": {
        "colab_type": "code",
        "id": "f2PuBykRIb7j",
        "colab": {}
      },
      "source": [
        "\"\"\"Adjust this conductivity\"\"\"\n",
        "\n",
        "# assign hydrualic conductivity in ft/day\n",
        "kvc = 40 # predominantly very coarse\n",
        "kc = 1.5  # predominantly coarse\n",
        "kf = 0.02  # predominantly fine\n",
        "kb = 20  # bedrock\n",
        "\n",
        "# determine how to assign hydrualic conductivity\n",
        "threshold1 = 10  # anything above this will be assigned kc and below kf\n",
        "threshold2 = 2 # anything above this will be assigned kvc and below kc\n",
        "\n",
        "def kloader(rastername, kvc, kc, kf, threshold1, threshold2):\n",
        "    percent = Raster.load(rastername)  # load raster\n",
        "    percent.crop([(swx, swy), (swx, ney), (nex, ney),\n",
        "                  (nex, swy)])  # crop array\n",
        "    percentgrid = percent.resample_to_grid(\n",
        "        xarr, yarr, 1, method='nearest')  # resample to model grid\n",
        "    percentgrid = np.flipud(percentgrid)  # flip the grid\n",
        "    maxrow = percentgrid.shape[0]\n",
        "    maxcol = percentgrid.shape[1]\n",
        "    for row in np.arange(maxrow, 0, -1):\n",
        "        for col in np.arange(maxcol, 0, -1):\n",
        "            if percentgrid[row - 1, col - 1] < -10:\n",
        "                percentgrid[row - 1, col - 1] = percentgrid[row - 1, col]\n",
        "    percentgrid[percentgrid >= threshold1] = kvc  # assign very coarse k value            \n",
        "    percentgrid[(percentgrid >= threshold2) & (percentgrid < threshold1)] = kc  # assign coarse k value\n",
        "    percentgrid[percentgrid <= threshold2] = kf  # assign fine k value\n",
        "    return percentgrid\n",
        "\n",
        "\n",
        "kl1 = kloader('percentl1.tif', kvc,kc, kf, threshold1, threshold2)\n",
        "kl2 = kloader('percentl2.tif', kvc, kc, kf, threshold1, threshold2)\n",
        "kl3 = kloader('percentl3.tif', kvc, kc, kf, threshold1, threshold2)\n",
        "kl4 = kloader('percentl4.tif', kvc, kc, kf, threshold1, threshold2)\n",
        "kl5 = kloader('percentl5.tif', kvc,kc, kf, threshold1, threshold2)\n",
        "kl6 = kloader('percentl6.tif', kvc, kc, kf,threshold1, threshold2)\n",
        "kl7 = kloader('percentl7.tif', kvc, kc, kf, threshold1, threshold2)\n",
        "kl8 = kloader('percentl8.tif', kvc, kc, kf, threshold1, threshold2)\n",
        "kl9 = kloader('percentl9.tif', kvc, kc, kf, threshold1, threshold2)\n",
        "kl10 = kl9 - kl9 + kb\n",
        "\n",
        "khlayers = [kl1, kl2, kl3, kl4, kl5, kl6, kl7, kl8, kl9, kl10]\n",
        "kvlayers = np.divide(khlayers, 10.)"
      ],
      "execution_count": 0,
      "outputs": []
    },
    {
      "cell_type": "code",
      "metadata": {
        "id": "5GXSrXKqJwS9",
        "colab_type": "code",
        "colab": {
          "base_uri": "https://localhost:8080/",
          "height": 145
        },
        "outputId": "73a82a52-2245-4d1b-c3a5-da95e115258a"
      },
      "source": [
        "print(kl9)"
      ],
      "execution_count": 187,
      "outputs": [
        {
          "output_type": "stream",
          "text": [
            "[[2.e-02 2.e-02 2.e-02 ... 4.e+01 4.e+01 4.e+01]\n",
            " [2.e-02 2.e-02 2.e-02 ... 4.e+01 4.e+01 4.e+01]\n",
            " [2.e-02 2.e-02 2.e-02 ... 4.e+01 4.e+01 4.e+01]\n",
            " ...\n",
            " [2.e-02 2.e-02 2.e-02 ... 4.e+01 4.e+01 4.e+01]\n",
            " [2.e-02 2.e-02 2.e-02 ... 4.e+01 4.e+01 4.e+01]\n",
            " [2.e-02 2.e-02 2.e-02 ... 4.e+01 4.e+01 4.e+01]]\n"
          ],
          "name": "stdout"
        }
      ]
    },
    {
      "cell_type": "markdown",
      "metadata": {
        "id": "Y4Hebb7sfiwl",
        "colab_type": "text"
      },
      "source": [
        "###3Avi. Well pumpage data cleansing"
      ]
    },
    {
      "cell_type": "code",
      "metadata": {
        "id": "eidknmR4_xnm",
        "colab_type": "code",
        "outputId": "34bb8bb1-48ad-43f4-a49f-4d4a86d7b3b7",
        "colab": {
          "base_uri": "https://localhost:8080/",
          "height": 126
        }
      },
      "source": [
        "\"\"\"Remove any item that loses data or does not meet the model requirement.\"\"\"\n",
        "def modify_pumpage(year:str):\n",
        "  dfpump = pd.read_csv(\n",
        "      'https://raw.githubusercontent.com/Firas-95/GEO572-Project-E.St.Louis/class_example/yiquan/pumping/Modified_Pumpage_Data_ESL.csv'\n",
        "      )\n",
        "  dfpump.rename(columns={'depth_total_last_known':'depth'}, inplace = True)\n",
        "  list_drop = []\n",
        "  for ind, row in dfpump.iterrows():\n",
        "      # 1. drop items with too large depth\n",
        "      if row['depth'] > 150:\n",
        "          list_drop.append(ind)\n",
        "          continue\n",
        "      # 2. drop items if their x-coordinates exceed the model boundary\n",
        "      elif row['lam_x'] > nex or row['lam_x'] < swx:\n",
        "          list_drop.append(ind)\n",
        "          continue\n",
        "      # 3. drop items if their y-coordinates exceed the model boundary\n",
        "      elif row['lam_y'] > ney or row['lam_y'] < swy:\n",
        "          list_drop.append(ind)\n",
        "  dfpump = dfpump.drop(list_drop)\n",
        "  # 4. drop item with no value\n",
        "  dfpump = dfpump.dropna(subset=[\"lam_x\", \"lam_y\",\"depth\",year],how='any')\n",
        "  modified_pump = dfpump[[\"lam_x\",\"lam_y\",\"depth\",year]]\n",
        "  modified_pump.index = range(len(modified_pump))\n",
        "  return modified_pump\n",
        "\n",
        "pump95 = modify_pumpage(\"1995\")\n",
        "print(pump95.head(5))"
      ],
      "execution_count": 209,
      "outputs": [
        {
          "output_type": "stream",
          "text": [
            "       lam_x      lam_y  depth        1995\n",
            "0  2854450.0  2093457.0   91.0  24480000.0\n",
            "1  2833677.0  2075353.0  111.0    180000.0\n",
            "2  2854752.0  2079301.0  102.0  74479500.0\n",
            "3  2854552.0  2079309.0  100.0  74479500.0\n",
            "4  2854773.0  2079519.0  101.0  74479500.0\n"
          ],
          "name": "stdout"
        }
      ]
    },
    {
      "cell_type": "code",
      "metadata": {
        "id": "qbHD0Jq2f-7Z",
        "colab_type": "code",
        "outputId": "5cee0be5-03df-4007-ac87-87b5279e40d1",
        "colab": {
          "base_uri": "https://localhost:8080/",
          "height": 890
        }
      },
      "source": [
        "\"\"\"Adjust the modified data to meet the input requirement.\"\"\"\n",
        "'''convert lamx to column and lamy to row (determine the exact position of wells in the model)'''\n",
        "# np.trunc() can round decimals to integers\n",
        "pump95['row'] = np.trunc((ney - pump95['lam_y']) / dy).astype('int')  \n",
        "pump95['col'] = np.trunc((pump95['lam_x'] - swx) / dx).astype('int')\n",
        "#  grouping repetitive river data\n",
        "# groupby() can combine Dataframe indices with the same coordinates.\n",
        "pump952 = pump95.groupby(['row', 'col'], as_index=False).sum() \n",
        "pump95 = pump95.groupby(['row', 'col'], as_index=False).mean() \n",
        "pump95['1995']=round(-pump95['1995']/7.48052/365,2) # unit ft/d\n",
        "pump952['1995']=round(-pump952['1995']/7.48052/365,2) # unit ft/d\n",
        "pump95 = pump95.drop(['lam_x','lam_y'],axis=1)\n",
        "print(pump95)\n",
        "print(pump952)"
      ],
      "execution_count": 210,
      "outputs": [
        {
          "output_type": "stream",
          "text": [
            "    row  col       depth       1995\n",
            "0    25  104   47.000000   -4394.98\n",
            "1    47   33   97.250000  -24375.94\n",
            "2    50   45   93.142857  -29553.08\n",
            "3    54   35   83.000000  -42118.53\n",
            "4    54   36   81.000000  -45781.01\n",
            "5    55   36   84.000000  -41202.91\n",
            "6    55   37   86.000000  -36624.81\n",
            "7    64   40  106.000000  -19430.28\n",
            "8    73   49  110.000000  -26003.61\n",
            "9    73   50  110.000000  -25095.48\n",
            "10   77   56  114.150000  -66249.83\n",
            "11   77   57  112.000000 -106369.50\n",
            "12   82   64   76.000000      -5.49\n",
            "13   86   64   91.000000   -8965.75\n",
            "14   98   63  106.333333  -36645.09\n",
            "15  100   64  101.000000  -27277.97\n",
            "16  104   43  111.000000     -65.92\n",
            "17  116   63  110.500000  -38766.26\n",
            "18  116   64  115.000000  -32612.74\n",
            "19  126   61   98.333333  -64864.55\n",
            "20  127   61  101.500000  -64864.55\n",
            "21  129   54  108.000000  -15614.18\n",
            "22  174    4  110.000000  -33533.40\n",
            "    row  col       lam_x       lam_y  depth       1995\n",
            "0    25  104   5789546.0   4308663.0   94.0   -8789.95\n",
            "1    47   33  22588440.0  17058540.0  778.0 -195007.50\n",
            "2    50   45  19848867.0  14905286.0  652.0 -206871.56\n",
            "3    54   35   2825939.0   2125033.0   83.0  -42118.53\n",
            "4    54   36   2826239.0   2125030.0   81.0  -45781.01\n",
            "5    55   36   5653033.0   4249835.0  168.0  -82405.82\n",
            "6    55   37   2827104.0   2124977.0   86.0  -36624.81\n",
            "7    64   40   5660255.0   4231392.0  212.0  -38860.57\n",
            "8    73   49   2839971.0   2106909.0  110.0  -26003.61\n",
            "9    73   50   5680832.0   4213745.0  220.0  -50190.97\n",
            "10   77   56  11387257.0   8409189.0  456.6 -264999.33\n",
            "11   77   57   2847006.0   2102314.0  112.0 -106369.50\n",
            "12   82   64   2854438.0   2097425.0   76.0      -5.49\n",
            "13   86   64   2854450.0   2093457.0   91.0   -8965.75\n",
            "14   98   63   8561070.0   6245265.0  319.0 -109935.26\n",
            "15  100   64   8564077.0   6238129.0  303.0  -81833.92\n",
            "16  104   43   2833677.0   2075353.0  111.0     -65.92\n",
            "17  116   63   5706875.0   4126858.0  221.0  -77532.52\n",
            "18  116   64   5708748.0   4126821.0  230.0  -65225.49\n",
            "19  126   61   8554111.0   6159871.0  295.0 -194593.64\n",
            "20  127   61   5702552.0   4105902.0  203.0 -129729.10\n",
            "21  129   54   2844683.0   2050939.0  108.0  -15614.18\n",
            "22  174    4   5588607.0   4011595.0  220.0  -67066.80\n"
          ],
          "name": "stdout"
        }
      ]
    },
    {
      "cell_type": "code",
      "metadata": {
        "id": "HwgT-NgwfTii",
        "colab_type": "code",
        "outputId": "7674f2e5-4133-42e1-f6b2-86c4bf91611f",
        "colab": {
          "base_uri": "https://localhost:8080/",
          "height": 55
        }
      },
      "source": [
        "\"\"\"Build the pumpage data and put them in a list[[lay, row, col, flux]].\"\"\"\n",
        "pumplist=[]\n",
        "# xx=range(0,10)\n",
        "# for i in range(0,10):\n",
        "#   list1.append([i,2,3])\n",
        "# print(list1)\n",
        "for ind, row in pump95.iterrows():\n",
        "  a,b,c,d = int(row['row']),int(row['col']),row['depth'],row['1995']\n",
        "  #print(a,b,c,d)\n",
        "  # Judge how many layers can a pumping well can go into.\n",
        "  for i in np.arange(9, 0, -1):\n",
        "    if c > topgrid[a][b]-botgrids[i][a][b]:\n",
        "      # Add pumpage data in the [lay, row, col, flux] format.\n",
        "      for j in range(0,i+1):\n",
        "        pumplist.append([j,a,b,d])\n",
        "      break\n",
        "print(pumplist)"
      ],
      "execution_count": 190,
      "outputs": [
        {
          "output_type": "stream",
          "text": [
            "[[0, 25, 104, -4394.98], [1, 25, 104, -4394.98], [2, 25, 104, -4394.98], [3, 25, 104, -4394.98], [0, 47, 33, -24375.94], [1, 47, 33, -24375.94], [2, 47, 33, -24375.94], [3, 47, 33, -24375.94], [4, 47, 33, -24375.94], [5, 47, 33, -24375.94], [6, 47, 33, -24375.94], [7, 47, 33, -24375.94], [8, 47, 33, -24375.94], [0, 50, 45, -29553.08], [1, 50, 45, -29553.08], [2, 50, 45, -29553.08], [3, 50, 45, -29553.08], [4, 50, 45, -29553.08], [5, 50, 45, -29553.08], [6, 50, 45, -29553.08], [7, 50, 45, -29553.08], [8, 50, 45, -29553.08], [0, 54, 35, -42118.53], [1, 54, 35, -42118.53], [2, 54, 35, -42118.53], [3, 54, 35, -42118.53], [4, 54, 35, -42118.53], [5, 54, 35, -42118.53], [0, 54, 36, -45781.01], [1, 54, 36, -45781.01], [2, 54, 36, -45781.01], [3, 54, 36, -45781.01], [4, 54, 36, -45781.01], [5, 54, 36, -45781.01], [0, 55, 36, -41202.91], [1, 55, 36, -41202.91], [2, 55, 36, -41202.91], [3, 55, 36, -41202.91], [4, 55, 36, -41202.91], [5, 55, 36, -41202.91], [6, 55, 36, -41202.91], [0, 55, 37, -36624.81], [1, 55, 37, -36624.81], [2, 55, 37, -36624.81], [3, 55, 37, -36624.81], [4, 55, 37, -36624.81], [5, 55, 37, -36624.81], [6, 55, 37, -36624.81], [0, 64, 40, -19430.28], [1, 64, 40, -19430.28], [2, 64, 40, -19430.28], [3, 64, 40, -19430.28], [4, 64, 40, -19430.28], [5, 64, 40, -19430.28], [6, 64, 40, -19430.28], [0, 73, 49, -26003.61], [1, 73, 49, -26003.61], [2, 73, 49, -26003.61], [3, 73, 49, -26003.61], [4, 73, 49, -26003.61], [5, 73, 49, -26003.61], [6, 73, 49, -26003.61], [7, 73, 49, -26003.61], [0, 73, 50, -25095.48], [1, 73, 50, -25095.48], [2, 73, 50, -25095.48], [3, 73, 50, -25095.48], [4, 73, 50, -25095.48], [5, 73, 50, -25095.48], [6, 73, 50, -25095.48], [7, 73, 50, -25095.48], [0, 77, 56, -66249.83], [1, 77, 56, -66249.83], [2, 77, 56, -66249.83], [3, 77, 56, -66249.83], [4, 77, 56, -66249.83], [5, 77, 56, -66249.83], [6, 77, 56, -66249.83], [7, 77, 56, -66249.83], [0, 77, 57, -106369.5], [1, 77, 57, -106369.5], [2, 77, 57, -106369.5], [3, 77, 57, -106369.5], [4, 77, 57, -106369.5], [5, 77, 57, -106369.5], [6, 77, 57, -106369.5], [7, 77, 57, -106369.5], [8, 77, 57, -106369.5], [0, 82, 64, -5.49], [1, 82, 64, -5.49], [2, 82, 64, -5.49], [3, 82, 64, -5.49], [4, 82, 64, -5.49], [5, 82, 64, -5.49], [6, 82, 64, -5.49], [7, 82, 64, -5.49], [8, 82, 64, -5.49], [0, 86, 64, -8965.75], [1, 86, 64, -8965.75], [2, 86, 64, -8965.75], [3, 86, 64, -8965.75], [4, 86, 64, -8965.75], [5, 86, 64, -8965.75], [6, 86, 64, -8965.75], [7, 86, 64, -8965.75], [8, 86, 64, -8965.75], [0, 98, 63, -36645.09], [1, 98, 63, -36645.09], [2, 98, 63, -36645.09], [3, 98, 63, -36645.09], [4, 98, 63, -36645.09], [5, 98, 63, -36645.09], [6, 98, 63, -36645.09], [7, 98, 63, -36645.09], [8, 98, 63, -36645.09], [0, 100, 64, -27277.97], [1, 100, 64, -27277.97], [2, 100, 64, -27277.97], [3, 100, 64, -27277.97], [4, 100, 64, -27277.97], [5, 100, 64, -27277.97], [6, 100, 64, -27277.97], [7, 100, 64, -27277.97], [8, 100, 64, -27277.97], [0, 104, 43, -65.92], [1, 104, 43, -65.92], [2, 104, 43, -65.92], [3, 104, 43, -65.92], [4, 104, 43, -65.92], [5, 104, 43, -65.92], [6, 104, 43, -65.92], [7, 104, 43, -65.92], [0, 116, 63, -38766.26], [1, 116, 63, -38766.26], [2, 116, 63, -38766.26], [3, 116, 63, -38766.26], [4, 116, 63, -38766.26], [5, 116, 63, -38766.26], [6, 116, 63, -38766.26], [7, 116, 63, -38766.26], [8, 116, 63, -38766.26], [0, 116, 64, -32612.74], [1, 116, 64, -32612.74], [2, 116, 64, -32612.74], [3, 116, 64, -32612.74], [4, 116, 64, -32612.74], [5, 116, 64, -32612.74], [6, 116, 64, -32612.74], [7, 116, 64, -32612.74], [8, 116, 64, -32612.74], [0, 126, 61, -64864.55], [1, 126, 61, -64864.55], [2, 126, 61, -64864.55], [3, 126, 61, -64864.55], [4, 126, 61, -64864.55], [5, 126, 61, -64864.55], [6, 126, 61, -64864.55], [7, 126, 61, -64864.55], [8, 126, 61, -64864.55], [0, 127, 61, -64864.55], [1, 127, 61, -64864.55], [2, 127, 61, -64864.55], [3, 127, 61, -64864.55], [4, 127, 61, -64864.55], [5, 127, 61, -64864.55], [6, 127, 61, -64864.55], [7, 127, 61, -64864.55], [8, 127, 61, -64864.55], [0, 129, 54, -15614.18], [1, 129, 54, -15614.18], [2, 129, 54, -15614.18], [3, 129, 54, -15614.18], [4, 129, 54, -15614.18], [5, 129, 54, -15614.18], [6, 129, 54, -15614.18], [7, 129, 54, -15614.18], [0, 174, 4, -33533.4], [1, 174, 4, -33533.4], [2, 174, 4, -33533.4], [3, 174, 4, -33533.4], [4, 174, 4, -33533.4], [5, 174, 4, -33533.4], [6, 174, 4, -33533.4], [7, 174, 4, -33533.4]]\n"
          ],
          "name": "stdout"
        }
      ]
    },
    {
      "cell_type": "markdown",
      "metadata": {
        "colab_type": "text",
        "id": "QoCKtXB3zoLH"
      },
      "source": [
        "## 3B. Create the MODFLOW model object "
      ]
    },
    {
      "cell_type": "code",
      "metadata": {
        "colab_type": "code",
        "id": "-v2Uc_JWSsu1",
        "colab": {}
      },
      "source": [
        "# Create a MODFLOW model object and run with MODFLOW 2005.\n",
        "modelname = \"my_model\"  # name the model\n",
        "m = flopy.modflow.Modflow(modelname, version='mf2005',\n",
        "                          exe_name='mf2005')  # create model object m"
      ],
      "execution_count": 0,
      "outputs": []
    },
    {
      "cell_type": "markdown",
      "metadata": {
        "colab_type": "text",
        "id": "mNkGlXTw0Y8_"
      },
      "source": [
        "## 3C. Append the discretization package to the model object"
      ]
    },
    {
      "cell_type": "code",
      "metadata": {
        "colab_type": "code",
        "id": "_MSCNyTkknUU",
        "colab": {}
      },
      "source": [
        "# length and time are feet (1) and days (4).\n",
        "# See https://water.usgs.gov/ogw/modflow/MODFLOW-2005-Guide/index.html?dis.htm \n",
        "dis = flopy.modflow.ModflowDis(model=m, nlay=nlay, nrow=nrow, ncol=ncol, \n",
        "                               delr=dx, delc=dy, top=topgrid, botm=botgrids, \n",
        "                               itmuni = 4, lenuni = 1, \n",
        "                               nper=nper, steady=steady)"
      ],
      "execution_count": 0,
      "outputs": []
    },
    {
      "cell_type": "markdown",
      "metadata": {
        "colab_type": "text",
        "id": "ohZcMcra23lN"
      },
      "source": [
        "## 3D. Basic Package"
      ]
    },
    {
      "cell_type": "code",
      "metadata": {
        "colab_type": "code",
        "id": "US3C3_-XS0gk",
        "colab": {}
      },
      "source": [
        "#Create flopy bas object\n",
        "bas = flopy.modflow.ModflowBas(m, ibound=ibound, strt=topgrid)"
      ],
      "execution_count": 0,
      "outputs": []
    },
    {
      "cell_type": "markdown",
      "metadata": {
        "colab_type": "text",
        "id": "5PSnNO_x3RUj"
      },
      "source": [
        "## 3E. LPF Package"
      ]
    },
    {
      "cell_type": "code",
      "metadata": {
        "colab_type": "code",
        "id": "sMP89XUkS4lL",
        "colab": {}
      },
      "source": [
        "#define layer type as convertible (1) or confined (0), must be an integer\n",
        "laytyp = np.zeros((nlay, ), dtype=np.int32)\n",
        "#print(laytyp)  # result: [0 0 0 0 0 0 0 0 0 0]\n",
        "# create the LPF object\n",
        "lpf = flopy.modflow.ModflowLpf(model=m,\n",
        "                               hk=khlayers,\n",
        "                               vka=kvlayers,\n",
        "                               laytyp=laytyp,\n",
        "                               ipakcb=1)"
      ],
      "execution_count": 0,
      "outputs": []
    },
    {
      "cell_type": "markdown",
      "metadata": {
        "colab_type": "text",
        "id": "blNu8BSC3VgJ"
      },
      "source": [
        "## 3F. Boundary Conditions"
      ]
    },
    {
      "cell_type": "markdown",
      "metadata": {
        "colab_type": "text",
        "id": "P4Y1btf03ivQ"
      },
      "source": [
        "### 3Fi. Recharge Package"
      ]
    },
    {
      "cell_type": "code",
      "metadata": {
        "colab_type": "code",
        "id": "gDZ98E8NS8UG",
        "colab": {}
      },
      "source": [
        "\"\"\"Specify recharge zone based on hydraulic conductivity.\"\"\"\n",
        "rech = kl1.copy()\n",
        "# Assume recharge is proportional to the conductivity. \n",
        "\n",
        "rech = np.where(rech == kc, 0.001 * kc / kf, 0.001)\n",
        "# ibound_zero = ibound[0]\n",
        "ibound_zero = np.where(ibound[0] == 0)\n",
        "# ibound_zero_col = np.where(ibound_zero == 0)[1]\n",
        "for i in range(len(ibound_zero[0])):\n",
        "    rech[ibound_zero[0][i], ibound_zero[1][i]] = 0.001"
      ],
      "execution_count": 0,
      "outputs": []
    },
    {
      "cell_type": "code",
      "metadata": {
        "colab_type": "code",
        "id": "2khK8rM5zk1W",
        "colab": {}
      },
      "source": [
        "# assign recharge to the model\n",
        "rch = flopy.modflow.mfrch.ModflowRch(model=m, rech=rech)"
      ],
      "execution_count": 0,
      "outputs": []
    },
    {
      "cell_type": "markdown",
      "metadata": {
        "colab_type": "text",
        "id": "-otcrtqA3ZTZ"
      },
      "source": [
        "### 3Fii. River Package"
      ]
    },
    {
      "cell_type": "code",
      "metadata": {
        "colab_type": "code",
        "id": "pwTDkxudTGmP",
        "colab": {}
      },
      "source": [
        "# put into a format that MODFLOW wants\n",
        "arriv = dfriv.values\n",
        "riverdata = {0: arriv}\n",
        "# create river package\n",
        "riv = flopy.modflow.mfriv.ModflowRiv(model=m,\n",
        "                                     ipakcb=None,\n",
        "                                     stress_period_data=riverdata)"
      ],
      "execution_count": 0,
      "outputs": []
    },
    {
      "cell_type": "markdown",
      "metadata": {
        "colab_type": "text",
        "id": "197weMSqBiEu"
      },
      "source": [
        "### 3Fiii. Drain Package\n"
      ]
    },
    {
      "cell_type": "code",
      "metadata": {
        "colab_type": "code",
        "id": "mw__sJ6AZ1O_",
        "outputId": "1b463f91-cc56-456d-c882-cd50f3546800",
        "colab": {
          "base_uri": "https://localhost:8080/",
          "height": 272
        }
      },
      "source": [
        "\"\"\"Acquire a dataframe that contains all drain cells.\"\"\"\n",
        "drain = {\n",
        "    'row': np.where(kl1 == kf)[0],\n",
        "    'col': np.where(kl1 == kf)[1]\n",
        "}  # np.where() returns all indices where the conductivity is low\n",
        "dfdrn = pd.DataFrame(drain)\n",
        "dfdrn['lay'] = 0\n",
        "dfdrn['cond'] = kf\n",
        "dfdrn['stage'] = topgrid[dfdrn['row'], dfdrn['col']]\n",
        "dfdrn = dfdrn.reindex(columns=['lay', 'row', 'col', 'stage',\n",
        "                               'cond'])  # rearrange the columns\n",
        "print(dfdrn)"
      ],
      "execution_count": 198,
      "outputs": [
        {
          "output_type": "stream",
          "text": [
            "       lay  row  col       stage  cond\n",
            "0        0    0    0  548.302490  0.02\n",
            "1        0    0    1  553.819214  0.02\n",
            "2        0    0    2  552.003784  0.02\n",
            "3        0    0    3  562.338501  0.02\n",
            "4        0    0    4  541.142212  0.02\n",
            "...    ...  ...  ...         ...   ...\n",
            "17504    0  219  105  450.316772  0.02\n",
            "17505    0  219  106  468.960022  0.02\n",
            "17506    0  219  107  448.542267  0.02\n",
            "17507    0  219  108  428.716034  0.02\n",
            "17508    0  219  109  419.235748  0.02\n",
            "\n",
            "[17509 rows x 5 columns]\n"
          ],
          "name": "stdout"
        }
      ]
    },
    {
      "cell_type": "code",
      "metadata": {
        "id": "8gPjptJe-qZi",
        "colab_type": "code",
        "colab": {
          "base_uri": "https://localhost:8080/",
          "height": 272
        },
        "outputId": "bafb8964-848a-4316-8990-8142e00ca55a"
      },
      "source": [
        "################# what did you drop here??\n",
        "dfdrn_droplist = []\n",
        "for ind, row in dfdrn.iterrows():\n",
        "    if ibound[0][dfdrn.iloc[ind, 1]][dfdrn.iloc[ind, 2]] == 0:\n",
        "        dfdrn_droplist.append(ind)\n",
        "dfdrn = dfdrn.drop(dfdrn_droplist)\n",
        "print(dfdrn)"
      ],
      "execution_count": 199,
      "outputs": [
        {
          "output_type": "stream",
          "text": [
            "       lay  row  col       stage  cond\n",
            "0        0    0    0  548.302490  0.02\n",
            "1        0    0    1  553.819214  0.02\n",
            "2        0    0    2  552.003784  0.02\n",
            "3        0    0    3  562.338501  0.02\n",
            "4        0    0    4  541.142212  0.02\n",
            "...    ...  ...  ...         ...   ...\n",
            "17504    0  219  105  450.316772  0.02\n",
            "17505    0  219  106  468.960022  0.02\n",
            "17506    0  219  107  448.542267  0.02\n",
            "17507    0  219  108  428.716034  0.02\n",
            "17508    0  219  109  419.235748  0.02\n",
            "\n",
            "[16837 rows x 5 columns]\n"
          ],
          "name": "stdout"
        }
      ]
    },
    {
      "cell_type": "code",
      "metadata": {
        "colab_type": "code",
        "id": "R72J1xcUBgw4",
        "colab": {}
      },
      "source": [
        "# put into a format that MODFLOW wants\n",
        "ardrn = dfdrn.values\n",
        "draindata = {0: ardrn}\n",
        "# create drain package\n",
        "riv = flopy.modflow.mfdrn.ModflowDrn(model=m,\n",
        "                                     ipakcb=None,\n",
        "                                     stress_period_data=draindata)"
      ],
      "execution_count": 0,
      "outputs": []
    },
    {
      "cell_type": "markdown",
      "metadata": {
        "id": "zOsO3MHI_yec",
        "colab_type": "text"
      },
      "source": [
        "### 3Fiv. Well Package"
      ]
    },
    {
      "cell_type": "code",
      "metadata": {
        "id": "plBLVqHpfAgD",
        "colab_type": "code",
        "colab": {}
      },
      "source": [
        "pumpagedata = {0: pumplist}\n",
        "pum = flopy.modflow.mfwel.ModflowWel(model=m,\n",
        "                                     ipakcb=None,\n",
        "                                     stress_period_data=pumpagedata)"
      ],
      "execution_count": 0,
      "outputs": []
    },
    {
      "cell_type": "markdown",
      "metadata": {
        "colab_type": "text",
        "id": "GAVD2sGT4oRb"
      },
      "source": [
        "## 3G. Define output control"
      ]
    },
    {
      "cell_type": "code",
      "metadata": {
        "colab_type": "code",
        "id": "NRhnNJU0TJhN",
        "colab": {}
      },
      "source": [
        "#create oc stress period data.\n",
        "spd = {(0, 0): ['print head', 'print budget', 'save head', 'save budget']}\n",
        "#create output control object\n",
        "oc = flopy.modflow.ModflowOc(model=m, stress_period_data=spd, compact=True)"
      ],
      "execution_count": 0,
      "outputs": []
    },
    {
      "cell_type": "markdown",
      "metadata": {
        "colab_type": "text",
        "id": "VD9BUXun4si5"
      },
      "source": [
        "## 3H. Solver"
      ]
    },
    {
      "cell_type": "code",
      "metadata": {
        "colab_type": "code",
        "id": "0tdHTKB-TMdU",
        "colab": {}
      },
      "source": [
        "# We will start by using the PCG solver with default settings\n",
        "#pcg = flopy.modflow.ModflowPcg(model=m)\n",
        "pcg = flopy.modflow.ModflowPcg(model=m,\n",
        "                               mxiter=200,\n",
        "                               iter1=50,\n",
        "                               hclose=1e-03,\n",
        "                               rclose=1e-03,\n",
        "                               relax=0.98,\n",
        "                               damp=0.3)"
      ],
      "execution_count": 0,
      "outputs": []
    },
    {
      "cell_type": "markdown",
      "metadata": {
        "colab_type": "text",
        "id": "7yMH7xi9_CF9"
      },
      "source": [
        "## 3I. Plot model inputs (boundary conditions, elevations)"
      ]
    },
    {
      "cell_type": "code",
      "metadata": {
        "colab_type": "code",
        "id": "s6ZbnrHqTVjd",
        "outputId": "41088666-2c69-41ee-843e-7a4e4a582f4e",
        "colab": {
          "base_uri": "https://localhost:8080/",
          "height": 899
        }
      },
      "source": [
        "'''Plot grid and boundary conditions'''\n",
        "plt.figure(figsize=(15, 15))  #create 15 x 15 figure\n",
        "modelmap = flopy.plot.PlotMapView(model=m, layer=0)\n",
        "# grid = modelmap.plot_grid()\n",
        "\n",
        "ib = modelmap.plot_ibound()\n",
        "dra = modelmap.plot_bc(ftype='DRN', color='#B0B0B0')\n",
        "rvr = modelmap.plot_bc(ftype='RIV', color='cyan')\n",
        "pup = modelmap.plot_bc(ftype='WEL',color='red')\n",
        "#add labels and legend\n",
        "plt.xlabel('Lx (ft)', fontsize=14)\n",
        "plt.ylabel('Ly (ft)', fontsize=14)\n",
        "plt.title('Boundary conditions', fontsize=15, fontweight='bold')\n",
        "plt.legend(handles=[\n",
        "    mp.patches.Patch(color='blue', label='Const. Head', ec='blue'),\n",
        "    mp.patches.Patch(color='white', label='Active Cell', ec='black'),\n",
        "    mp.patches.Patch(color='#B0B0B0', label='Active & Drain Cell', ec='black'),\n",
        "    mp.patches.Patch(color='red', label='Well', ec='red'),\n",
        "    mp.patches.Patch(color='cyan', label='River', ec='cyan'),\n",
        "    mp.patches.Patch(color='black', label='Inactive Cell', ec='black')],\n",
        "           bbox_to_anchor=(1.5, 1.0))\n",
        "plt.show()"
      ],
      "execution_count": 204,
      "outputs": [
        {
          "output_type": "display_data",
          "data": {
            "image/png": "[encoded data removed]",
            "text/plain": [
              "<Figure size 1080x1080 with 1 Axes>"
            ]
          },
          "metadata": {
            "tags": [],
            "needs_background": "light"
          }
        }
      ]
    },
    {
      "cell_type": "code",
      "metadata": {
        "colab_type": "code",
        "id": "r27l4dJK-Ksv",
        "outputId": "8d2da4ad-b244-4129-85d7-de57eb8fc025",
        "colab": {
          "base_uri": "https://localhost:8080/",
          "height": 35
        }
      },
      "source": [
        "\"\"\"Plot top elevation\"\"\"\n",
        "# plt.figure(figsize=(15, 15))  #create 15 x 15 figure\n",
        "# modelmap = flopy.plot.map.PlotMapView(\n",
        "#     model=m, layer=0)  #use plotmapview to attach plot to model\n",
        "# # Create meshgrid for the model, they will be used in the top elevation map.\n",
        "# # x and y are located on the centeroid of each grid\n",
        "# x = xc - np.min(xc) + dx / 2\n",
        "# y = yc - np.min(yc) + dy / 2\n",
        "# X, Y = np.meshgrid(x, y)\n",
        "# plt.colorbar(plt.contourf(X, Y, topgrid, 16, alpha=0.9,\n",
        "#                           cmap=plt.cm.RdYlGn_r))  # Plot the top elevation\n",
        "# rvr = modelmap.plot_bc(ftype='RIV', color='cyan')\n",
        "# ib = modelmap.plot_ibound()\n",
        "# #display parameters\n",
        "# plt.xlabel('Lx (ft)', fontsize=14)\n",
        "# plt.ylabel('Ly (ft)', fontsize=14)\n",
        "# plt.title('Top Elevation (ft AMSL)', fontsize=15, fontweight='bold')\n",
        "# plt.show()"
      ],
      "execution_count": 205,
      "outputs": [
        {
          "output_type": "execute_result",
          "data": {
            "text/plain": [
              "'Plot top elevation'"
            ]
          },
          "metadata": {
            "tags": []
          },
          "execution_count": 205
        }
      ]
    },
    {
      "cell_type": "code",
      "metadata": {
        "colab_type": "code",
        "id": "yTWhw4UA-yK3",
        "outputId": "ef67ebbe-d305-40a8-c9c2-d75e32dc0959",
        "colab": {
          "base_uri": "https://localhost:8080/",
          "height": 592
        }
      },
      "source": [
        "\"\"\"Plot the transect we are concerned about in milestone 1.\"\"\"\n",
        "def plot_transect(rowcolflag, value):\n",
        "  plt.figure(figsize=(20, 10))  #create 20 x 10 figure\\\n",
        "  # rowcolflag indicates whether the transect is on the row or the column direction\n",
        "  if rowcolflag == 0:\n",
        "    modelxsect = flopy.plot.PlotCrossSection(\n",
        "        model=m, line={\"row\": value})  #use plotmapview to attach plot to model\n",
        "  elif rowcolflag == 1:\n",
        "    modelxsect = flopy.plot.PlotCrossSection(\n",
        "        model=m, line={\"column\": value})  #use plotmapview to attach plot to model      \n",
        "  #create colormap of named colors\n",
        "  colors = [\"gray\",\"saddlebrown\", \"olivedrab\", \"lightgoldenrodyellow\"]\n",
        "  cmap = mp.colors.LinearSegmentedColormap.from_list(\"\", colors)\n",
        "  # norm = mp.colors.LogNorm(vmin=kf, vmax=kvc)\n",
        "  # khlaynp = np.array(khlayers)\n",
        "  lines = modelxsect.plot_array(khlaynp, norm=norm, cmap=cmap)\n",
        "  modelxsect.plot_bc(ftype='DRN', color='#B0B0B0')\n",
        "  modelxsect.plot_bc(ftype='RIV', color='cyan')\n",
        "  modelxsect.plot_bc(ftype='WEL',color='red')\n",
        "  modelxsect.plot_ibound()\n",
        "  plt.show()\n",
        "  return\n",
        "\n",
        "plot_transect(1,100)"
      ],
      "execution_count": 217,
      "outputs": [
        {
          "output_type": "display_data",
          "data": {
            "image/png": "[encoded data removed]",
            "text/plain": [
              "<Figure size 1440x720 with 1 Axes>"
            ]
          },
          "metadata": {
            "tags": [],
            "needs_background": "light"
          }
        }
      ]
    },
    {
      "cell_type": "markdown",
      "metadata": {
        "colab_type": "text",
        "id": "x4QPNEge41Mh"
      },
      "source": [
        "# 4 Write and run the MODFLOW model"
      ]
    },
    {
      "cell_type": "code",
      "metadata": {
        "colab_type": "code",
        "id": "DH-U_oaiWTl8",
        "outputId": "52d84fd7-4198-4818-da9b-3a8da80223ba",
        "colab": {
          "base_uri": "https://localhost:8080/",
          "height": 55
        }
      },
      "source": [
        "# # Write the model input\n",
        "# m.write_input()\n",
        "# # Execute the model run\n",
        "# success, mfoutput = m.run_model(pause=False, report=True)\n",
        "# # Report back if the model did not successfully complete\n",
        "# if not success:\n",
        "#     raise Exception('MODFLOW did not terminate normally.')"
      ],
      "execution_count": 220,
      "outputs": [
        {
          "output_type": "execute_result",
          "data": {
            "text/plain": [
              "\"\\n# Write the model input\\nm.write_input()\\n# Execute the model run\\nsuccess, mfoutput = m.run_model(pause=False, report=True)\\n# Report back if the model did not successfully complete\\nif not success:\\n    raise Exception('MODFLOW did not terminate normally.')\\n\""
            ]
          },
          "metadata": {
            "tags": []
          },
          "execution_count": 220
        }
      ]
    },
    {
      "cell_type": "markdown",
      "metadata": {
        "colab_type": "text",
        "id": "bN2ivrtx_5yz"
      },
      "source": [
        "# 5 Plot Output Data"
      ]
    },
    {
      "cell_type": "code",
      "metadata": {
        "colab_type": "code",
        "id": "a7mhYeBVhDn6",
        "outputId": "beaf2c42-7f24-4ca7-ed2a-c401a192a671",
        "colab": {
          "base_uri": "https://localhost:8080/",
          "height": 55
        }
      },
      "source": [
        "# '''Extract binary data from head and flow files'''\n",
        "# #----------------------------------------------------------------------------\n",
        "# #extract binary data from head file as flopy head object\n",
        "# headobj = flopy.utils.binaryfile.HeadFile(modelname + '.hds')\n",
        "# #extract head data from head object\n",
        "# head = headobj.get_data(totim=1.0)\n",
        "# print(head[0])"
      ],
      "execution_count": 218,
      "outputs": [
        {
          "output_type": "execute_result",
          "data": {
            "text/plain": [
              "\"\\n#----------------------------------------------------------------------------\\n#extract binary data from head file as flopy head object\\nheadobj = flopy.utils.binaryfile.HeadFile(modelname + '.hds')\\n#extract head data from head object\\nhead = headobj.get_data(totim=1.0)\\nprint(head[0])\\n\""
            ]
          },
          "metadata": {
            "tags": []
          },
          "execution_count": 218
        }
      ]
    },
    {
      "cell_type": "code",
      "metadata": {
        "colab_type": "code",
        "id": "MZxuJhCzg_F8",
        "colab": {}
      },
      "source": [
        "# \"\"\"Plot results\"\"\"\n",
        "# plt.figure(figsize=(15, 15))  #create 15 x 15 figure\n",
        "# modelmap = flopy.plot.map.PlotMapView(\n",
        "#     model=m, layer=0)  #use plotmapview to attach plot to model\n",
        "# contour_levels = np.linspace(head[0].min(),head[0].max(),21) #set contour levels for contouring head\n",
        "\n",
        "# head_contours = modelmap.contour_array(\n",
        "#     head[0], levels=contour_levels)  #create head contours\n",
        "# plt.clabel(head_contours, inline=True, fontsize=12, fmt='%1.0f')\n",
        "# rvr = modelmap.plot_bc(ftype='RIV')\n",
        "\n",
        "# #display parameters\n",
        "# plt.xlabel('Lx (ft)', fontsize=14)\n",
        "# plt.ylabel('Ly (ft)', fontsize=14)\n",
        "# plt.title('Steady-State Model, Flow(ft^3/d) and Head(ft) Results',\n",
        "#           fontsize=15,\n",
        "#           fontweight='bold')\n",
        "# plt.show()"
      ],
      "execution_count": 0,
      "outputs": []
    }
  ]
}