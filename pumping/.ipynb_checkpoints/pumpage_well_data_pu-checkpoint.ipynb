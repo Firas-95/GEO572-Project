{
 "cells": [
  {
   "cell_type": "code",
   "execution_count": 1,
   "metadata": {},
   "outputs": [],
   "source": [
    "import numpy as np\n",
    "import pandas as pd"
   ]
  },
  {
   "cell_type": "code",
   "execution_count": 2,
   "metadata": {},
   "outputs": [
    {
     "name": "stdout",
     "output_type": "stream",
     "text": [
      "      p_num  isws_facility_id                              owner  \\\n",
      "0    135008        16370000.0                   BLUFF VIEW FARMS   \n",
      "1    296811        11970015.0        GATEWAY NATIONAL GOLF LINKS   \n",
      "2    314829        11938810.0                WOOD RIVER REFINERY   \n",
      "3    314830        11938810.0                WOOD RIVER REFINERY   \n",
      "4    314847        11938020.0          STEIN STEEL MILL SERVICES   \n",
      "..      ...               ...                                ...   \n",
      "539  492851        11938560.0             PREMCOR REFINING GROUP   \n",
      "540  496673        11938810.0  PHILLIPS 66 [WOOD RIVER REFINERY]   \n",
      "541  496674        11938810.0  PHILLIPS 66 [WOOD RIVER REFINERY]   \n",
      "542  498073        11990750.0                          MARYVILLE   \n",
      "543  498328        16330000.0                CHRIST BROS ASPHALT   \n",
      "\n",
      "     fac_well_num  depth_total_last_known    lam_x    lam_y  1981  1982  1983  \\\n",
      "0               1                   100.0  2842999  2047571   NaN   NaN   NaN   \n",
      "1               1                    88.0  2816221  2054200   NaN   NaN   NaN   \n",
      "2               9                   112.0      NaN      NaN   NaN   NaN   NaN   \n",
      "3               8                   105.0      NaN      NaN   NaN   NaN   NaN   \n",
      "4               1                    90.0  2820652  2132962   NaN   NaN   NaN   \n",
      "..            ...                     ...      ...      ...   ...   ...   ...   \n",
      "539            25                     NaN      NaN      NaN   NaN   NaN   NaN   \n",
      "540            90                   111.0      NaN      NaN   NaN   NaN   NaN   \n",
      "541            91                   107.0      NaN      NaN   NaN   NaN   NaN   \n",
      "542             5                   101.0      NaN      NaN   NaN   NaN   NaN   \n",
      "543             1                    42.0      NaN      NaN   NaN   NaN   NaN   \n",
      "\n",
      "     ...        2010        2011         2012         2013         2014  \\\n",
      "0    ...         NaN         NaN          NaN          NaN          NaN   \n",
      "1    ...  17000000.0  16000000.0          NaN          NaN          NaN   \n",
      "2    ...         NaN         NaN  485890338.0  548564677.0  458603066.0   \n",
      "3    ...         NaN         NaN  545912086.0  602337600.0  809573974.0   \n",
      "4    ...         NaN   1940000.0    2948000.0    2948000.0    2108000.0   \n",
      "..   ...         ...         ...          ...          ...          ...   \n",
      "539  ...         NaN         NaN          NaN  464211787.0  444296463.0   \n",
      "540  ...         NaN         NaN          NaN          NaN          NaN   \n",
      "541  ...         NaN         NaN          NaN          NaN          NaN   \n",
      "542  ...         NaN         NaN          NaN          NaN          NaN   \n",
      "543  ...         NaN         NaN          NaN          NaN          NaN   \n",
      "\n",
      "            2015         2016         2017         2018        2019  \n",
      "0            0.0          0.0          NaN          NaN         NaN  \n",
      "1            NaN          NaN          NaN          NaN         NaN  \n",
      "2    442836144.0  441565340.0  427839757.0  655378329.0         NaN  \n",
      "3    707991447.0  719535877.0  697169879.0  697705815.0         NaN  \n",
      "4      2648000.0    3466000.0    3034000.0    2564000.0         NaN  \n",
      "..           ...          ...          ...          ...         ...  \n",
      "539          NaN   15951100.0          NaN          NaN  34825200.0  \n",
      "540          NaN          NaN          NaN   70886911.0         NaN  \n",
      "541          NaN          NaN          NaN   75612705.0         NaN  \n",
      "542          NaN          NaN          NaN  337805000.0         NaN  \n",
      "543          NaN          NaN          NaN      70000.0         NaN  \n",
      "\n",
      "[544 rows x 46 columns]\n"
     ]
    }
   ],
   "source": [
    "df = pd.read_excel(r'C:\\Users\\Pu\\Documents\\GitHub\\GEO572-Project-E.St.Louis\\pumping\\Pumpage_Data_ESL.xlsx')\n",
    "print(df)"
   ]
  },
  {
   "cell_type": "code",
   "execution_count": null,
   "metadata": {},
   "outputs": [],
   "source": []
  }
 ],
 "metadata": {
  "kernelspec": {
   "display_name": "Python 3",
   "language": "python",
   "name": "python3"
  },
  "language_info": {
   "codemirror_mode": {
    "name": "ipython",
    "version": 3
   },
   "file_extension": ".py",
   "mimetype": "text/x-python",
   "name": "python",
   "nbconvert_exporter": "python",
   "pygments_lexer": "ipython3",
   "version": "3.7.4"
  },
  "toc": {
   "base_numbering": 1,
   "nav_menu": {},
   "number_sections": true,
   "sideBar": true,
   "skip_h1_title": false,
   "title_cell": "Table of Contents",
   "title_sidebar": "Contents",
   "toc_cell": false,
   "toc_position": {},
   "toc_section_display": true,
   "toc_window_display": false
  }
 },
 "nbformat": 4,
 "nbformat_minor": 2
}
